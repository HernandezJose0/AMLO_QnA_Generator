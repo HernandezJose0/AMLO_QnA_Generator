{
  "nbformat": 4,
  "nbformat_minor": 0,
  "metadata": {
    "colab": {
      "name": "Collecting_Speech.ipynb",
      "provenance": [],
      "collapsed_sections": [],
      "authorship_tag": "ABX9TyPKpibEdwdKST1+RDGnqsqM"
    },
    "kernelspec": {
      "name": "python3",
      "display_name": "Python 3"
    },
    "language_info": {
      "name": "python"
    }
  },
  "cells": [
    {
      "cell_type": "markdown",
      "source": [
        "# Collecting data\n",
        "Since every \"Mañanera\" is trainscripted and uploaded to the México's goverment page, we're going to scrap it with BeautifulSoup"
      ],
      "metadata": {
        "id": "ClTfto9MgQLN"
      }
    },
    {
      "cell_type": "code",
      "execution_count": 1,
      "metadata": {
        "id": "8TZcaPZa4lvE"
      },
      "outputs": [],
      "source": [
        "from bs4 import BeautifulSoup as bs\n",
        "import pandas as pd\n",
        "import numpy as np\n",
        "import requests\n",
        "import time"
      ]
    },
    {
      "cell_type": "code",
      "source": [
        "def obtener_datos(num_p):\n",
        "  df_dialogos=pd.DataFrame(columns=[\"Fecha\",\"Dialogo\"])\n",
        "  df_preguntas=pd.DataFrame(columns=[\"Fecha\",\"Pregunta\",\"Respuesta\"])\n",
        "  for n in range(num_p):\n",
        "    html=requests.get(f\"https://www.gob.mx/presidencia/es/archivo/articulos?filter_origin=archive&idiom=es&order=DESC&page={str(n+1)}\")\n",
        "    sopa=bs(html.text,\"html5lib\")\n",
        "    entradas=sopa.find_all(\"article\")\n",
        "    urls_conf=[entrada.a.get(\"href\") for entrada in entradas if \"conferencia\" in entrada.a.get(\"href\")]\n",
        "    fechas=[entrada.time.get(\"date\") for entrada in entradas if \"conferencia\" in entrada.a.get(\"href\")]\n",
        "    j=0\n",
        "    for url,fecha in zip(urls_conf,fechas):\n",
        "      fecha=fechas[j]\n",
        "      url=url.replace(u'\\\\\"',u'').replace('/p','http://www.gob.mx/p')\n",
        "      html=requests.get(url)\n",
        "      soup=bs(html.text,\"html5lib\")\n",
        "      conferencia=soup.find(\"div\",\"article-body\").text\n",
        "      dialogos=conferencia.split(':')\n",
        "      for i in range(len(dialogos)):\n",
        "        if dialogos[i][-7:] == 'OBRADOR':\n",
        "          dialogo_amlo=dialogos[i+1]\n",
        "          df_dialogos=df_dialogos.append({\"Fecha\":fecha,\"Dialogo\":dialogo_amlo},ignore_index=True)\n",
        "        elif (dialogos[i][-8:] == 'PREGUNTA' or dialogos[i][-12:] == 'INTERLOCUTOR' or dialogos[i][-12:] == 'INTERVENCIÓN') and dialogos[i+1][-7:] == 'OBRADOR':\n",
        "          pregunta_amlo=dialogos[i+1]\n",
        "          respuesta_amlo=dialogos[i+2]\n",
        "          df_preguntas=df_preguntas.append({\"Fecha\":fecha,\"Pregunta\":pregunta_amlo,\"Respuesta\":respuesta_amlo},ignore_index=True)\n",
        "      time.sleep(3)\n",
        "      j+=1\n",
        "  return df_preguntas,df_dialogos"
      ],
      "metadata": {
        "id": "z0iXyBIPKwH0"
      },
      "execution_count": 2,
      "outputs": []
    },
    {
      "cell_type": "code",
      "source": [
        "df_preguntas,df_dialogos=obtener_datos(10)\n",
        "print(df_preguntas.tail())\n",
        "print(df_dialogos.tail())"
      ],
      "metadata": {
        "colab": {
          "base_uri": "https://localhost:8080/"
        },
        "id": "x3FG2CQOyW2r",
        "outputId": "235f7cf1-3a58-489e-8c95-f45257b1cde7"
      },
      "execution_count": 3,
      "outputs": [
        {
          "output_type": "stream",
          "name": "stdout",
          "text": [
            "             Fecha                                           Pregunta  \\\n",
            "1042  \\\"2022-04-28   ¿Qué temas va a tratar con el presidente Bide...   \n",
            "1043  \\\"2022-04-28   ¿Va a subir video?\\n\\nPRESIDENTE ANDRÉS MANUE...   \n",
            "1044  \\\"2022-04-28   ¿El lunes va a Ciudad Sahagún? \\n\\nPRESIDENTE...   \n",
            "1045  \\\"2022-04-28   Después de la mañanera. \\n\\nPRESIDENTE ANDRÉS...   \n",
            "1046  \\\"2022-04-28   ¿Es privado?\\n\\nPRESIDENTE ANDRÉS MANUEL LÓPE...   \n",
            "\n",
            "                                              Respuesta  \n",
            "1042   Les vamos a informar después de la llamada.\\n...  \n",
            "1043   Sí, es muy probable que les informemos. No, n...  \n",
            "1044   Y el lunes vamos a Ciudad Sahagún, vamos a la...  \n",
            "1045           Después de la mañanera. \\n\\nINTERVENCIÓN  \n",
            "1046   Sí, es cerrado, porque también hay elecciones...  \n",
            "             Fecha                                            Dialogo\n",
            "1861  \\\"2022-04-28   Les vamos a informar después de la llamada.\\n...\n",
            "1862  \\\"2022-04-28   Sí, es muy probable que les informemos. No, n...\n",
            "1863  \\\"2022-04-28   Y el lunes vamos a Ciudad Sahagún, vamos a la...\n",
            "1864  \\\"2022-04-28           Después de la mañanera. \\n\\nINTERVENCIÓN\n",
            "1865  \\\"2022-04-28   Sí, es cerrado, porque también hay elecciones...\n"
          ]
        }
      ]
    },
    {
      "cell_type": "code",
      "source": [
        "df_preguntas.to_csv(\"preguntas.csv\",index=False)\n",
        "df_dialogos.to_csv(\"dialogos.csv\",index=False)"
      ],
      "metadata": {
        "id": "SF2v1lIc6YXs"
      },
      "execution_count": 4,
      "outputs": []
    },
    {
      "cell_type": "code",
      "source": [
        ""
      ],
      "metadata": {
        "id": "AK9qussnmmpQ"
      },
      "execution_count": null,
      "outputs": []
    }
  ]
}